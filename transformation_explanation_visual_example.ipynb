{
 "cells": [
  {
   "cell_type": "code",
   "execution_count": 2,
   "metadata": {},
   "outputs": [
    {
     "name": "stderr",
     "output_type": "stream",
     "text": [
      "/home/coraline/anaconda3/envs/dpml/lib/python3.7/site-packages/tqdm/auto.py:22: TqdmWarning: IProgress not found. Please update jupyter and ipywidgets. See https://ipywidgets.readthedocs.io/en/stable/user_install.html\n",
      "  from .autonotebook import tqdm as notebook_tqdm\n",
      "2022-06-10 09:02:00.435640: I tensorflow/stream_executor/platform/default/dso_loader.cc:53] Successfully opened dynamic library libcudart.so.11.0\n"
     ]
    }
   ],
   "source": [
    "import textattack\n",
    "import transformers"
   ]
  },
  {
   "cell_type": "code",
   "execution_count": 3,
   "metadata": {},
   "outputs": [
    {
     "name": "stderr",
     "output_type": "stream",
     "text": [
      "textattack: Unknown if model of class <class 'transformers.models.bert.modeling_bert.BertForSequenceClassification'> compatible with goal function <class 'textattack.goal_functions.classification.untargeted_classification.UntargetedClassification'>.\n",
      "Reusing dataset glue (/home/coraline/.cache/huggingface/datasets/glue/sst2/1.0.0/dacbe3125aa31d7f70367a07a8a9e72a5a0bfeb5fc42e75c9db75b96da6053ad)\n",
      "100%|███████████████████████████████████████████████████████████████████████████████████████| 3/3 [00:00<00:00, 1179.50it/s]\n",
      "textattack: Loading \u001b[94mdatasets\u001b[0m dataset \u001b[94mglue\u001b[0m, subset \u001b[94msst2\u001b[0m, split \u001b[94mvalidation\u001b[0m.\n"
     ]
    }
   ],
   "source": [
    "model = transformers.AutoModelForSequenceClassification.from_pretrained(\"textattack/bert-base-uncased-SST-2\")\n",
    "tokenizer = transformers.AutoTokenizer.from_pretrained(\"textattack/bert-base-uncased-SST-2\", use_fast=True)\n",
    "model_wrapper = textattack.models.wrappers.HuggingFaceModelWrapper(model, tokenizer)\n",
    "\n",
    "attack = textattack.attack_recipes.A2TYoo2021.build(model_wrapper)\n",
    "dataset = textattack.datasets.HuggingFaceDataset(\"glue\", \"sst2\", split=\"validation\")\n",
    "\n",
    "# Attack 20 samples with CSV logging and checkpoint saved every 5 interval\n",
    "attack_args = textattack.AttackArgs(\n",
    "    num_examples=20,\n",
    "    csv_coloring_style=\"plain\",\n",
    "    log_to_csv=\"../results/log.csv\",\n",
    "    checkpoint_interval=20,\n",
    "    disable_stdout=True\n",
    ")"
   ]
  },
  {
   "cell_type": "code",
   "execution_count": 4,
   "metadata": {
    "scrolled": true
   },
   "outputs": [
    {
     "name": "stderr",
     "output_type": "stream",
     "text": [
      "textattack: Logging to CSV at path ../results/log.csv\n"
     ]
    },
    {
     "name": "stdout",
     "output_type": "stream",
     "text": [
      "Attack(\n",
      "  (search_method): GreedyWordSwapWIR(\n",
      "    (wir_method):  gradient\n",
      "  )\n",
      "  (goal_function):  UntargetedClassification\n",
      "  (transformation):  WordSwapEmbedding(\n",
      "    (max_candidates):  20\n",
      "    (embedding):  WordEmbedding\n",
      "  )\n",
      "  (constraints): \n",
      "    (0): PartOfSpeech(\n",
      "        (tagger_type):  nltk\n",
      "        (tagset):  universal\n",
      "        (allow_verb_noun_swap):  False\n",
      "        (compare_against_original):  True\n",
      "      )\n",
      "    (1): BERT(\n",
      "        (metric):  cosine\n",
      "        (threshold):  0.9\n",
      "        (window_size):  inf\n",
      "        (skip_text_shorter_than_window):  False\n",
      "        (compare_against_original):  True\n",
      "      )\n",
      "    (2): WordEmbeddingDistance(\n",
      "        (embedding):  WordEmbedding\n",
      "        (min_cos_sim):  0.8\n",
      "        (cased):  False\n",
      "        (include_unknown_words):  True\n",
      "        (compare_against_original):  True\n",
      "      )\n",
      "    (3): RepeatModification\n",
      "    (4): StopwordModification\n",
      "    (5): InputColumnModification(\n",
      "        (matching_column_labels):  ['premise', 'hypothesis']\n",
      "        (columns_to_ignore):  {'premise'}\n",
      "      )\n",
      "    (6): MaxModificationRate(\n",
      "        (max_rate):  0.1\n",
      "        (min_threshold):  4\n",
      "      )\n",
      "  (is_black_box):  False\n",
      ") \n",
      "\n"
     ]
    },
    {
     "name": "stderr",
     "output_type": "stream",
     "text": [
      "  0%|                                                                                                | 0/20 [00:00<?, ?it/s]/home/coraline/anaconda3/envs/dpml/lib/python3.7/site-packages/torch/nn/modules/module.py:1033: UserWarning: Using a non-full backward hook when the forward contains multiple autograd Nodes is deprecated and will be removed in future versions. This hook will be missing some grad_input. Please use register_full_backward_hook to get the documented behavior.\n",
      "  warnings.warn(\"Using a non-full backward hook when the forward contains multiple autograd Nodes \"\n",
      "[Succeeded / Failed / Skipped / Total] 2 / 17 / 1 / 20: 100%|███████████████████████████████| 20/20 [00:17<00:00,  1.13it/s]textattack: Saving checkpoint under \"checkpoints/1654876964770.ta.chkpt\" at 2022-06-10 09:02:44 after 20 attacks.\n",
      "[Succeeded / Failed / Skipped / Total] 2 / 17 / 1 / 20: 100%|███████████████████████████████| 20/20 [00:17<00:00,  1.13it/s]"
     ]
    },
    {
     "name": "stdout",
     "output_type": "stream",
     "text": [
      "\n",
      "\n",
      "=============================================================================================================================\n",
      "=============================================================================================================================\n",
      "\n",
      "\n",
      "+-------------------------------+--------+\n",
      "| Attack Results                |        |\n",
      "+-------------------------------+--------+\n",
      "| Number of successful attacks: | 2      |\n",
      "| Number of failed attacks:     | 17     |\n",
      "| Number of skipped attacks:    | 1      |\n",
      "| Original accuracy:            | 95.0%  |\n",
      "| Accuracy under attack:        | 85.0%  |\n",
      "| Attack success rate:          | 10.53% |\n",
      "| Average perturbed word %:     | 18.75% |\n",
      "| Average num. words per input: | 15.8   |\n",
      "| Avg num queries:              | 14.26  |\n",
      "+-------------------------------+--------+\n"
     ]
    },
    {
     "name": "stderr",
     "output_type": "stream",
     "text": [
      "\n"
     ]
    }
   ],
   "source": [
    "attacker = textattack.Attacker(attack, dataset, attack_args)\n",
    "results = attacker.attack_dataset()\n",
    "#for result in results:"
   ]
  },
  {
   "cell_type": "code",
   "execution_count": 6,
   "metadata": {},
   "outputs": [],
   "source": [
    "import numpy as np\n",
    "import lime\n",
    "import torch\n",
    "import torch.nn.functional as F\n",
    "from lime.lime_text import LimeTextExplainer\n",
    "\n",
    "\n",
    "device = torch.device(\"cuda\" if torch.cuda.is_available() else \"cpu\")\n",
    "def predictor(texts):\n",
    "    model.eval()\n",
    "    inputs = tokenizer(texts, return_tensors=\"pt\", padding=True).to(device)\n",
    "    outputs = model(**inputs)\n",
    "    probas = F.softmax(outputs.logits).detach().cpu().numpy()\n",
    "    return probas\n",
    "\n",
    "class_names = ['negative','positive']\n",
    "\n",
    "explainer = LimeTextExplainer(class_names=class_names)"
   ]
  },
  {
   "cell_type": "code",
   "execution_count": 22,
   "metadata": {},
   "outputs": [],
   "source": [
    "def get_text_and_labels(results, idx, explainer):\n",
    "    original_text = results[idx].original_result.attacked_text\n",
    "    perturbed_text = results[idx].perturbed_result.attacked_text\n",
    "    original_words = original_text.words\n",
    "    perturbed_words = perturbed_text.words\n",
    "    \n",
    "    transformation_history = perturbed_text.le_attrs['transformation_history']\n",
    "    order = {}\n",
    "    for trans in transformation_history:\n",
    "        ind = int(trans[trans.find('{')+1:trans.rfind('}')])\n",
    "        order[ind]= len(order)\n",
    "        \n",
    "    modified_inds = []\n",
    "    for i, token in enumerate(perturbed_text.tokens):\n",
    "        if token.le_attrs['ops']:\n",
    "            modified_inds.append(i)\n",
    "    \n",
    "    exp1 = explainer.explain_instance(original_text.printable_text(), predictor, num_features=5, num_samples=100).as_map()[1]\n",
    "    exp2 = explainer.explain_instance(perturbed_text.printable_text(), predictor, num_features=5, num_samples=100).as_map()[1]\n",
    "    \n",
    "    return original_words, perturbed_words, order, (exp1, exp2)"
   ]
  },
  {
   "cell_type": "code",
   "execution_count": 27,
   "metadata": {},
   "outputs": [
    {
     "name": "stderr",
     "output_type": "stream",
     "text": [
      "/home/coraline/anaconda3/envs/dpml/lib/python3.7/site-packages/ipykernel_launcher.py:13: UserWarning: Implicit dimension choice for softmax has been deprecated. Change the call to include dim=X as an argument.\n",
      "  del sys.path[0]\n",
      "/home/coraline/anaconda3/envs/dpml/lib/python3.7/site-packages/ipykernel_launcher.py:13: UserWarning: Implicit dimension choice for softmax has been deprecated. Change the call to include dim=X as an argument.\n",
      "  del sys.path[0]\n"
     ]
    }
   ],
   "source": [
    "idx = 3\n",
    "original_words, perturbed_words, order, (exp1, exp2) = get_text_and_labels(results, idx, explainer)\n",
    "lengths = list(map(lambda x, y: max(len(x), len(y)), original_words, perturbed_words))"
   ]
  },
  {
   "cell_type": "code",
   "execution_count": 28,
   "metadata": {},
   "outputs": [],
   "source": [
    "import matplotlib.pyplot as plt\n",
    "\n",
    "def get_ax_size(ax):\n",
    "    bbox = ax.get_window_extent().transformed(fig.dpi_scale_trans.inverted())\n",
    "    width, height = bbox.width, bbox.height\n",
    "    width *= fig.dpi\n",
    "    height *= fig.dpi\n",
    "    return width, height"
   ]
  },
  {
   "cell_type": "code",
   "execution_count": 29,
   "metadata": {},
   "outputs": [
    {
     "data": {
      "image/png": "[encoded data removed]",
      "text/plain": [
       "<Figure size 1440x144 with 32 Axes>"
      ]
     },
     "metadata": {
      "needs_background": "light"
     },
     "output_type": "display_data"
    }
   ],
   "source": [
    "fig, ax = plt.subplots(2, len(original_words), figsize=(20,2), sharex=True, gridspec_kw={'width_ratios': lengths})\n",
    "\n",
    "exp1_iter = iter(sorted(exp1))\n",
    "exp2_iter = iter(sorted(exp2))\n",
    "\n",
    "cur_exp1 = next(exp1_iter)\n",
    "cur_exp2 = next(exp2_iter)\n",
    "\n",
    "\n",
    "for i in range(len(original_words)):\n",
    "    cur_ax = ax[1, i]\n",
    "    above_ax = ax[0, i]\n",
    "    above_ax.set_axis_off()\n",
    "    cur_ax.set_axis_off()\n",
    "    width, height = get_ax_size(cur_ax)\n",
    "    width = width / height\n",
    "\n",
    "    color1 = color2 = 'black'\n",
    "    if i in order:\n",
    "        color1 = 'green'\n",
    "        color2 = 'red'\n",
    "        cur_ax.annotate(str(order[i]), xy=(0.5, 0.2), xytext=(0.5, -0.5),\n",
    "                       fontsize=14, ha='center', va='bottom', xycoords='axes fraction', \n",
    "                       bbox=dict(boxstyle='circle', fc='0.95'),\n",
    "                       arrowprops=dict(arrowstyle=f'-[, widthB={width}, lengthB=.5', lw=1.5))\n",
    "    pos_color = 'orange'\n",
    "    neg_color = 'purple'\n",
    "    kwargs1 = dict()\n",
    "\n",
    "    if cur_exp1 and cur_exp1[0] == i:\n",
    "        box_color = neg_color\n",
    "        score = cur_exp1[1]\n",
    "        if score > 0:\n",
    "            box_color = pos_color\n",
    "        try:\n",
    "            cur_exp1 = next(exp1_iter)\n",
    "        except StopIteration:\n",
    "            cur_exp1 = None\n",
    "            \n",
    "        kwargs1 = dict(bbox=dict(facecolor=box_color, alpha= abs(score), edgecolor=box_color))\n",
    "        \n",
    "    kwargs2 = dict()\n",
    "    if cur_exp2 and cur_exp2[0] == i:\n",
    "        box_color = neg_color\n",
    "        score = cur_exp2[1]\n",
    "        if score > 0:\n",
    "            box_color = pos_color\n",
    "        try:\n",
    "            cur_exp2 = next(exp2_iter)\n",
    "        except StopIteration:\n",
    "            cur_exp2 = None\n",
    "        kwargs2 = dict(bbox=dict(facecolor=box_color, alpha= abs(score), edgecolor=box_color))\n",
    "    \n",
    "    above_ax.text(.5, 0, original_words[i], fontsize=16, color=color1, **kwargs1, horizontalalignment='center', verticalalignment='center',)\n",
    "    cur_ax.text(.5, .6, perturbed_words[i], fontsize=16, color=color2, **kwargs2, horizontalalignment='center', verticalalignment='center',)\n",
    "    "
   ]
  },
  {
   "cell_type": "code",
   "execution_count": null,
   "metadata": {},
   "outputs": [],
   "source": []
  }
 ],
 "metadata": {
  "kernelspec": {
   "display_name": "dpml",
   "language": "python",
   "name": "dpml"
  },
  "language_info": {
   "codemirror_mode": {
    "name": "ipython",
    "version": 3
   },
   "file_extension": ".py",
   "mimetype": "text/x-python",
   "name": "python",
   "nbconvert_exporter": "python",
   "pygments_lexer": "ipython3",
   "version": "3.7.13"
  }
 },
 "nbformat": 4,
 "nbformat_minor": 4
}
